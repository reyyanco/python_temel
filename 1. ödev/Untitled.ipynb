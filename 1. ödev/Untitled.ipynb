{
 "cells": [
  {
   "cell_type": "markdown",
   "id": "8c7446ea-b1e6-47a1-9732-7264a7759704",
   "metadata": {},
   "source": [
    "1.soru"
   ]
  },
  {
   "cell_type": "code",
   "execution_count": 11,
   "id": "ac0a2840-f9bd-4cea-8d2d-2995e361a6d8",
   "metadata": {},
   "outputs": [
    {
     "name": "stdout",
     "output_type": "stream",
     "text": [
      "Toplam: 75\n"
     ]
    }
   ],
   "source": [
    "x=24\n",
    "y='22'\n",
    "z='12'\n",
    "p='1111'\n",
    "\n",
    "cevir= int(y,8)\n",
    "cevir2= int(z,16)\n",
    "cevir3=int(p,2)\n",
    "toplam= x + cevir + cevir2 + cevir3\n",
    "\n",
    "print(\"Toplam:\",toplam)"
   ]
  },
  {
   "cell_type": "markdown",
   "id": "821a0a3e-7f12-4315-9226-cd5b6c298ab1",
   "metadata": {},
   "source": [
    "2.soru"
   ]
  },
  {
   "cell_type": "code",
   "execution_count": 13,
   "id": "5e0b5ca0-2cb3-41a4-b7fe-46cf072423a8",
   "metadata": {},
   "outputs": [],
   "source": [
    "a=\"x#\""
   ]
  },
  {
   "cell_type": "code",
   "execution_count": 14,
   "id": "6c1533d5-f9fe-4051-88fe-d626748b5378",
   "metadata": {},
   "outputs": [],
   "source": [
    "b=\"sos\""
   ]
  },
  {
   "cell_type": "code",
   "execution_count": 17,
   "id": "3578bc35-9f95-429e-8fb8-2581b0e29027",
   "metadata": {},
   "outputs": [
    {
     "data": {
      "text/plain": [
       "'#ox#ox#ox#ox#ox#ox#ox#ox#ox#ox#ox#ox#ox#ox#ox#ox#ox#ox#ox#ox#ox#ox'"
      ]
     },
     "execution_count": 17,
     "metadata": {},
     "output_type": "execute_result"
    }
   ],
   "source": [
    "(a[1]+ b[1]+a[0])*22\n",
    "    "
   ]
  },
  {
   "cell_type": "code",
   "execution_count": 7,
   "id": "9d9363fd-b772-4a46-b139-927666374dc9",
   "metadata": {},
   "outputs": [],
   "source": []
  },
  {
   "cell_type": "code",
   "execution_count": 8,
   "id": "aa3d6540-b849-45b2-bcc5-69b4e5da2baf",
   "metadata": {},
   "outputs": [
    {
     "name": "stdout",
     "output_type": "stream",
     "text": [
      "ox#ox#ox#ox#ox#ox#ox#ox#ox#ox#ox#ox#ox#ox#ox#ox#ox#ox#ox#ox#ox#ox#\n"
     ]
    }
   ],
   "source": []
  },
  {
   "cell_type": "markdown",
   "id": "218423d1-a966-4ef1-93c3-d0b16d4915bc",
   "metadata": {},
   "source": [
    "3.soru"
   ]
  },
  {
   "cell_type": "code",
   "execution_count": 22,
   "id": "18f50a3e-1ec3-4e9b-9711-897aa8dc98a0",
   "metadata": {},
   "outputs": [],
   "source": [
    "a=\"Python Ankara\""
   ]
  },
  {
   "cell_type": "code",
   "execution_count": 32,
   "id": "f1ecc5ef-c879-44b5-b3eb-68a1c74493a0",
   "metadata": {},
   "outputs": [
    {
     "name": "stdout",
     "output_type": "stream",
     "text": [
      "araknA\n"
     ]
    }
   ],
   "source": [
    "print(a[:6:-1])"
   ]
  },
  {
   "cell_type": "markdown",
   "id": "18602118-39c8-494c-a087-7701b7660b51",
   "metadata": {},
   "source": [
    "4.soru"
   ]
  },
  {
   "cell_type": "code",
   "execution_count": 33,
   "id": "52b412b6-dc06-4872-96c0-69b66d0fbb94",
   "metadata": {},
   "outputs": [
    {
     "name": "stdout",
     "output_type": "stream",
     "text": [
      "23 37 14\n"
     ]
    }
   ],
   "source": [
    "a=14\n",
    "b=23\n",
    "c=37\n",
    "d=a\n",
    "a=b\n",
    "b=c\n",
    "c=d\n",
    "print(a,b,c)"
   ]
  },
  {
   "cell_type": "code",
   "execution_count": 13,
   "id": "a58ecb83-9a17-41a1-ac62-9534a05f96ea",
   "metadata": {},
   "outputs": [
    {
     "name": "stdout",
     "output_type": "stream",
     "text": [
      "a: 23\n",
      "b: 37\n",
      "c: 14\n"
     ]
    }
   ],
   "source": [
    "a,b,c=b,c,a\n",
    "print(\"a:\", a)\n",
    "print(\"b:\", b)\n",
    "print(\"c:\", c)"
   ]
  },
  {
   "cell_type": "markdown",
   "id": "49930e7a-0d81-465f-80f9-2582ca7bfefb",
   "metadata": {},
   "source": [
    "5.soru"
   ]
  },
  {
   "cell_type": "markdown",
   "id": "2c3f8fc8-f284-4b76-a505-5de456a80c63",
   "metadata": {},
   "source": [
    "6.soru"
   ]
  },
  {
   "cell_type": "code",
   "execution_count": 1,
   "id": "f63178a0-eb23-4c86-85f1-abc8edf21858",
   "metadata": {},
   "outputs": [
    {
     "name": "stdout",
     "output_type": "stream",
     "text": [
      "Python\n"
     ]
    }
   ],
   "source": [
    "a=\"Zython\"\n",
    "b= \"P\" + a[1:]\n",
    "print(b)"
   ]
  },
  {
   "cell_type": "markdown",
   "id": "bae964d5-a4d5-4881-af52-2d4d9bf34ba2",
   "metadata": {},
   "source": [
    "7.soru"
   ]
  },
  {
   "cell_type": "code",
   "execution_count": 37,
   "id": "4c5801a5-7b72-40f5-8c6e-53234f1d9d3b",
   "metadata": {},
   "outputs": [
    {
     "name": "stdout",
     "output_type": "stream",
     "text": [
      "EEE105\"s and\\or EE105's results\n"
     ]
    }
   ],
   "source": [
    "print(\"EEE105\\\"s and\\\\or EE105's results\")"
   ]
  },
  {
   "cell_type": "markdown",
   "id": "1dbd6db2-2e1d-46ea-835c-168ee2cd9b0b",
   "metadata": {},
   "source": [
    "8.soru"
   ]
  },
  {
   "cell_type": "code",
   "execution_count": 3,
   "id": "ddd0a801-adbf-432c-bee6-40b162428942",
   "metadata": {},
   "outputs": [],
   "source": [
    "a=[[\"a\",[\"b\",[\"c\",\"x\"]]]]"
   ]
  },
  {
   "cell_type": "code",
   "execution_count": 6,
   "id": "40fee48b-693f-484c-8667-ac11241f44b9",
   "metadata": {},
   "outputs": [
    {
     "name": "stdout",
     "output_type": "stream",
     "text": [
      "x\n"
     ]
    }
   ],
   "source": [
    "print(a[0][1][1][1])"
   ]
  },
  {
   "cell_type": "markdown",
   "id": "7dc363b8-a471-402b-b8e5-848ee5d7a1e2",
   "metadata": {},
   "source": [
    "9.soru"
   ]
  },
  {
   "cell_type": "code",
   "execution_count": 53,
   "id": "8c285919-3627-48df-a211-98c42e2f3436",
   "metadata": {},
   "outputs": [
    {
     "name": "stdout",
     "output_type": "stream",
     "text": [
      "65\n",
      "90\n",
      "304\n",
      "89\n",
      "97\n",
      "105\n",
      "305\n",
      "İzmir\n"
     ]
    }
   ],
   "source": [
    "a = [\"Ankara\",\"Zonguldak\",\"İzmir\",\"Yozgat\"]\n",
    "print(ord(a[0][0]))\n",
    "print(ord(a[1][0]))\n",
    "print(ord(a[2][0]))\n",
    "print(ord(a[3][0]))\n",
    "print(ord(a[0][3]))\n",
    "print(ord('i'))\n",
    "print(ord('ı'))\n",
    "print(max(a))"
   ]
  },
  {
   "cell_type": "code",
   "execution_count": 68,
   "id": "3d1c8c33-71a4-45ff-bea5-ed0ae6f06bd4",
   "metadata": {},
   "outputs": [
    {
     "name": "stdout",
     "output_type": "stream",
     "text": [
      "5\n",
      "Ankara İstanbul İzmir Adana\n"
     ]
    }
   ],
   "source": [
    "w=[\"Ankara\",\"İstanbul\",\"İzmir\",\"Adana\"]\n",
    "sayac=0\n",
    "for word in w:\n",
    "    for character in word:\n",
    "        if(character=='a'):\n",
    "            sayac+=1\n",
    "print(sayac)        \n",
    "\n",
    "res= ' '.join(w)\n",
    "print(res)\n",
    "\n",
    "        \n",
    "    \n",
    "    \n",
    "        \n",
    "        \n",
    "        \n"
   ]
  },
  {
   "cell_type": "code",
   "execution_count": 66,
   "id": "d4020944-7024-4201-bc7c-8f1d4822c85b",
   "metadata": {},
   "outputs": [
    {
     "data": {
      "text/plain": [
       "'#ox#ox#ox#ox#ox#ox#ox#ox#ox#ox#ox#ox#ox#ox#ox#ox#ox#ox#ox#ox#ox#ox'"
      ]
     },
     "execution_count": 66,
     "metadata": {},
     "output_type": "execute_result"
    }
   ],
   "source": [
    "a = [\"x#\", \"sos\"]\n",
    "(a[0][1]+a[1][1]+a[0][0])*22"
   ]
  },
  {
   "cell_type": "code",
   "execution_count": 76,
   "id": "9006713c-5373-4059-a2e6-d827b51d8734",
   "metadata": {},
   "outputs": [
    {
     "name": "stdout",
     "output_type": "stream",
     "text": [
      "[2, 5, 1, 9, 6, 4]\n",
      "a: [2, 5, 1, 9, 6, 4]\n",
      "[1, 2, 4, 5, 6, 9]\n"
     ]
    }
   ],
   "source": [
    "a = [ 2, 5, 1, 9, 6, 4]\n",
    "b = a.copy()\n",
    "print(a)\n",
    "b.sort()\n",
    "print('a:',a)\n",
    "print(b)"
   ]
  },
  {
   "cell_type": "code",
   "execution_count": null,
   "id": "38fc8bcc-574e-4eba-a258-f187ce281faa",
   "metadata": {},
   "outputs": [],
   "source": []
  }
 ],
 "metadata": {
  "kernelspec": {
   "display_name": "Python [conda env:base] *",
   "language": "python",
   "name": "conda-base-py"
  },
  "language_info": {
   "codemirror_mode": {
    "name": "ipython",
    "version": 3
   },
   "file_extension": ".py",
   "mimetype": "text/x-python",
   "name": "python",
   "nbconvert_exporter": "python",
   "pygments_lexer": "ipython3",
   "version": "3.12.7"
  }
 },
 "nbformat": 4,
 "nbformat_minor": 5
}
